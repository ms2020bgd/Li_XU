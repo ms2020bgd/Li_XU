{
 "cells": [
  {
   "cell_type": "code",
   "execution_count": 1,
   "metadata": {},
   "outputs": [],
   "source": [
    "import requests\n",
    "from bs4 import BeautifulSoup"
   ]
  },
  {
   "cell_type": "code",
   "execution_count": 2,
   "metadata": {},
   "outputs": [],
   "source": [
    "destinationTitle = \"Philosophie\"\n",
    "baseUrl = \"https://fr.wikipedia.org\"\n",
    "startUrlKey = \"/wiki/Spécial:Page_au_hasard\"\n",
    "# destinationTitle = \"哲学\"\n",
    "# baseUrl = \"https://zh.wikipedia.org\"\n",
    "# startUrlKey = \"/wiki/Special:Randompage\"\n",
    "\n",
    "urlKeyVisted = [startUrlKey]\n",
    "\n",
    "def get_soup_from_url(url):\n",
    "    page = requests.get(url)\n",
    "    return BeautifulSoup(page.text)\n",
    "\n",
    "def if_continue(title):\n",
    "    return title != destinationTitle\n",
    "\n",
    "def get_next_targetUrlKey(pageContent):\n",
    "    targetUrlInfo = pageContent.select('#mw-content-text p a[href^=\"/wiki/\"]')\n",
    "    for i in range(0,len(targetUrlInfo)):\n",
    "        targetUrlKey = targetUrlInfo[i].attrs['href']\n",
    "        if targetUrlKey not in urlKeyVisted and targetUrlKey.find(':') < 0:\n",
    "            urlKeyVisted.append(targetUrlKey)\n",
    "            return targetUrlKey\n",
    "    exit('pas de nouveau page')\n",
    "\n",
    "\n",
    "def scrap(targetUrlKey):\n",
    "    targetUrl = baseUrl + targetUrlKey\n",
    "    pageContent = get_soup_from_url(targetUrl)\n",
    "    targetTitle = pageContent.find('h1').text\n",
    "    print(targetTitle)\n",
    "    if if_continue(targetTitle):\n",
    "        targetUrlKey = get_next_targetUrlKey(pageContent)\n",
    "        scrap(targetUrlKey)\n",
    "    else:\n",
    "        print(\"##########################\")\n",
    "        print(\"Se rendre à l'article philosophie!!!\")\n",
    "        print(\"page total: \",  len(urlKeyVisted))"
   ]
  },
  {
   "cell_type": "code",
   "execution_count": 3,
   "metadata": {},
   "outputs": [
    {
     "name": "stdout",
     "output_type": "stream",
     "text": [
      "Albalat dels Tarongers\n",
      "Communauté valencienne\n",
      "Valencien\n",
      "Catalan\n",
      "Langues romanes\n",
      "Latin vulgaire\n",
      "Latin\n",
      "Langues italiques\n",
      "Famille de langues\n",
      "Langue\n",
      "Système\n",
      "Ensemble\n",
      "Mathématiques\n",
      "Connaissance\n",
      "Notion\n",
      "Connaissance (philosophie)\n",
      "Philosophie\n",
      "##########################\n",
      "Se rendre à l'article philosophie!!!\n",
      "page total:  17\n"
     ]
    }
   ],
   "source": [
    "#start\n",
    "scrap(startUrlKey)"
   ]
  },
  {
   "cell_type": "code",
   "execution_count": null,
   "metadata": {},
   "outputs": [],
   "source": []
  }
 ],
 "metadata": {
  "kernelspec": {
   "display_name": "Python 3",
   "language": "python",
   "name": "python3"
  },
  "language_info": {
   "codemirror_mode": {
    "name": "ipython",
    "version": 3
   },
   "file_extension": ".py",
   "mimetype": "text/x-python",
   "name": "python",
   "nbconvert_exporter": "python",
   "pygments_lexer": "ipython3",
   "version": "3.7.3"
  }
 },
 "nbformat": 4,
 "nbformat_minor": 2
}
